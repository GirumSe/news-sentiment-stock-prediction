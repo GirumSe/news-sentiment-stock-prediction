{
 "cells": [
  {
   "cell_type": "code",
   "execution_count": 1,
   "metadata": {},
   "outputs": [],
   "source": [
    "import sys\n",
    "import os\n",
    "\n",
    "# Append the parent directory (src) to sys.path\n",
    "notebooks_dir = os.path.dirname(os.path.abspath(\"__file__\"))\n",
    "src_dir = os.path.abspath(os.path.join(notebooks_dir, \"..\"))\n",
    "if src_dir not in sys.path:\n",
    "    sys.path.insert(0, src_dir)"
   ]
  },
  {
   "cell_type": "code",
   "execution_count": null,
   "metadata": {},
   "outputs": [],
   "source": [
    "from scripts.correlation_analysis import (\n",
    "    load_news_data, compute_sentiment, aggregate_daily_sentiment,\n",
    "    load_all_stock_data, merge_sentiment_with_returns,\n",
    "    compute_correlation_per_stock, plot_sentiment_vs_return\n",
    ")\n",
    "import seaborn as sns\n",
    "import matplotlib.pyplot as plt"
   ]
  },
  {
   "cell_type": "code",
   "execution_count": 3,
   "metadata": {},
   "outputs": [
    {
     "name": "stderr",
     "output_type": "stream",
     "text": [
      "/home/gura/Documents/projects/10_acadamy/week1/news-sentiment-stock-prediction/src/scripts/correlation_analysis.py:8: UserWarning: The argument 'infer_datetime_format' is deprecated and will be removed in a future version. A strict version of it is now the default, see https://pandas.pydata.org/pdeps/0004-consistent-to-datetime-parsing.html. You can safely remove this argument.\n",
      "  df['date'] = pd.to_datetime(df['date'], errors='coerce', infer_datetime_format=True)\n"
     ]
    }
   ],
   "source": [
    "news_df = load_news_data('../../data/raw_analyst_ratings.csv')\n",
    "news_df = compute_sentiment(news_df)\n",
    "daily_sentiment = aggregate_daily_sentiment(news_df)\n",
    "print(daily_sentiment.head())"
   ]
  },
  {
   "cell_type": "code",
   "execution_count": 4,
   "metadata": {},
   "outputs": [
    {
     "name": "stdout",
     "output_type": "stream",
     "text": [
      "         Date stock  daily_return\n",
      "0  1980-12-15  AAPL     -0.052171\n",
      "1  1980-12-16  AAPL     -0.073398\n",
      "2  1980-12-17  AAPL      0.024751\n",
      "3  1980-12-18  AAPL      0.028992\n",
      "4  1980-12-19  AAPL      0.061029\n"
     ]
    }
   ],
   "source": [
    "stock_df = load_all_stock_data('../../data/yfinance_data/')\n",
    "print(stock_df.head())"
   ]
  },
  {
   "cell_type": "code",
   "execution_count": 5,
   "metadata": {},
   "outputs": [
    {
     "name": "stdout",
     "output_type": "stream",
     "text": [
      "         date stock  sentiment        Date  daily_return\n",
      "0  2020-06-02  NVDA   0.250000  2020-06-02      0.002158\n",
      "1  2020-06-04  GOOG   0.000000  2020-06-04     -0.016848\n",
      "2  2020-06-05  GOOG  -0.051852  2020-06-05      0.018560\n",
      "3  2020-06-08  GOOG   0.139394  2020-06-08      0.005715\n",
      "4  2020-06-08  NVDA   0.000000  2020-06-08     -0.012892\n"
     ]
    }
   ],
   "source": [
    "merged_df = merge_sentiment_with_returns(daily_sentiment, stock_df)\n",
    "print(merged_df.head())"
   ]
  },
  {
   "cell_type": "code",
   "execution_count": 6,
   "metadata": {},
   "outputs": [
    {
     "ename": "ValueError",
     "evalue": "`x` and `y` must have length at least 2.",
     "output_type": "error",
     "traceback": [
      "\u001b[31m---------------------------------------------------------------------------\u001b[39m",
      "\u001b[31mValueError\u001b[39m                                Traceback (most recent call last)",
      "\u001b[32m/tmp/ipykernel_162821/3779226106.py\u001b[39m in \u001b[36m?\u001b[39m\u001b[34m()\u001b[39m\n\u001b[32m      1\u001b[39m \u001b[38;5;66;03m# --------------------------\u001b[39;00m\n\u001b[32m      2\u001b[39m \u001b[38;5;66;03m# 5. Compute Correlation Summary Per Stock\u001b[39;00m\n\u001b[32m      3\u001b[39m \u001b[38;5;66;03m# --------------------------\u001b[39;00m\n\u001b[32m----> \u001b[39m\u001b[32m4\u001b[39m correlation_summary = compute_correlation_per_stock(merged_df)\n\u001b[32m      5\u001b[39m print(correlation_summary)\n",
      "\u001b[32m~/Documents/projects/10_acadamy/week1/news-sentiment-stock-prediction/src/scripts/correlation_analysis.py\u001b[39m in \u001b[36m?\u001b[39m\u001b[34m(merged_df)\u001b[39m\n\u001b[32m     36\u001b[39m \u001b[38;5;28;01mdef\u001b[39;00m compute_correlation_per_stock(merged_df):\n\u001b[32m---> \u001b[39m\u001b[32m37\u001b[39m     return merged_df.groupby('stock').apply(\n\u001b[32m     38\u001b[39m         lambda x: pd.Series({\n\u001b[32m     39\u001b[39m             \u001b[33m'n_samples'\u001b[39m: len(x),\n\u001b[32m     40\u001b[39m             \u001b[33m'correlation'\u001b[39m: pearsonr(x[\u001b[33m'sentiment'\u001b[39m], x[\u001b[33m'daily_return'\u001b[39m])[\u001b[32m0\u001b[39m]\n",
      "\u001b[32m~/Documents/projects/10_acadamy/week1/news-sentiment-stock-prediction/.venv/lib/python3.13/site-packages/pandas/core/groupby/groupby.py\u001b[39m in \u001b[36m?\u001b[39m\u001b[34m(self, func, include_groups, *args, **kwargs)\u001b[39m\n\u001b[32m   1833\u001b[39m                         ),\n\u001b[32m   1834\u001b[39m                         category=DeprecationWarning,\n\u001b[32m   1835\u001b[39m                         stacklevel=find_stack_level(),\n\u001b[32m   1836\u001b[39m                     )\n\u001b[32m-> \u001b[39m\u001b[32m1837\u001b[39m             \u001b[38;5;28;01mexcept\u001b[39;00m TypeError:\n\u001b[32m   1838\u001b[39m                 \u001b[38;5;66;03m# gh-20949\u001b[39;00m\n\u001b[32m   1839\u001b[39m                 \u001b[38;5;66;03m# try again, with .apply acting as a filtering\u001b[39;00m\n\u001b[32m   1840\u001b[39m                 \u001b[38;5;66;03m# operation, by excluding the grouping column\u001b[39;00m\n",
      "\u001b[32m~/Documents/projects/10_acadamy/week1/news-sentiment-stock-prediction/.venv/lib/python3.13/site-packages/pandas/core/groupby/groupby.py\u001b[39m in \u001b[36m?\u001b[39m\u001b[34m(self, f, data, not_indexed_same, is_transform, is_agg)\u001b[39m\n\u001b[32m   1881\u001b[39m         -------\n\u001b[32m   1882\u001b[39m         Series \u001b[38;5;28;01mor\u001b[39;00m DataFrame\n\u001b[32m   1883\u001b[39m             data after applying f\n\u001b[32m   1884\u001b[39m         \"\"\"\n\u001b[32m-> \u001b[39m\u001b[32m1885\u001b[39m         values, mutated = self._grouper.apply_groupwise(f, data, self.axis)\n\u001b[32m   1886\u001b[39m         \u001b[38;5;28;01mif\u001b[39;00m not_indexed_same \u001b[38;5;28;01mis\u001b[39;00m \u001b[38;5;28;01mNone\u001b[39;00m:\n\u001b[32m   1887\u001b[39m             not_indexed_same = mutated\n\u001b[32m   1888\u001b[39m \n",
      "\u001b[32m~/Documents/projects/10_acadamy/week1/news-sentiment-stock-prediction/.venv/lib/python3.13/site-packages/pandas/core/groupby/ops.py\u001b[39m in \u001b[36m?\u001b[39m\u001b[34m(self, f, data, axis)\u001b[39m\n\u001b[32m    915\u001b[39m             object.__setattr__(group, \u001b[33m\"name\"\u001b[39m, key)\n\u001b[32m    916\u001b[39m \n\u001b[32m    917\u001b[39m             \u001b[38;5;66;03m# group might be modified\u001b[39;00m\n\u001b[32m    918\u001b[39m             group_axes = group.axes\n\u001b[32m--> \u001b[39m\u001b[32m919\u001b[39m             res = f(group)\n\u001b[32m    920\u001b[39m             \u001b[38;5;28;01mif\u001b[39;00m \u001b[38;5;28;01mnot\u001b[39;00m mutated \u001b[38;5;28;01mand\u001b[39;00m \u001b[38;5;28;01mnot\u001b[39;00m _is_indexed_like(res, group_axes, axis):\n\u001b[32m    921\u001b[39m                 mutated = \u001b[38;5;28;01mTrue\u001b[39;00m\n\u001b[32m    922\u001b[39m             result_values.append(res)\n",
      "\u001b[32m~/Documents/projects/10_acadamy/week1/news-sentiment-stock-prediction/src/scripts/correlation_analysis.py\u001b[39m in \u001b[36m?\u001b[39m\u001b[34m(x)\u001b[39m\n\u001b[32m     38\u001b[39m         lambda x: pd.Series({\n\u001b[32m     39\u001b[39m             \u001b[33m'n_samples'\u001b[39m: len(x),\n\u001b[32m---> \u001b[39m\u001b[32m40\u001b[39m             \u001b[33m'correlation'\u001b[39m: pearsonr(x[\u001b[33m'sentiment'\u001b[39m], x[\u001b[33m'daily_return'\u001b[39m])[\u001b[32m0\u001b[39m]\n\u001b[32m     41\u001b[39m         })\n",
      "\u001b[32m~/Documents/projects/10_acadamy/week1/news-sentiment-stock-prediction/.venv/lib/python3.13/site-packages/scipy/stats/_stats_py.py\u001b[39m in \u001b[36m?\u001b[39m\u001b[34m(x, y, alternative, method, axis)\u001b[39m\n\u001b[32m   4548\u001b[39m     \u001b[38;5;28;01mif\u001b[39;00m n != y.shape[axis]:\n\u001b[32m   4549\u001b[39m         \u001b[38;5;28;01mraise\u001b[39;00m ValueError(\u001b[33m'`x` and `y` must have the same length along `axis`.'\u001b[39m)\n\u001b[32m   4550\u001b[39m \n\u001b[32m   4551\u001b[39m     \u001b[38;5;28;01mif\u001b[39;00m n < \u001b[32m2\u001b[39m:\n\u001b[32m-> \u001b[39m\u001b[32m4552\u001b[39m         \u001b[38;5;28;01mraise\u001b[39;00m ValueError(\u001b[33m'`x` and `y` must have length at least 2.'\u001b[39m)\n\u001b[32m   4553\u001b[39m \n\u001b[32m   4554\u001b[39m     \u001b[38;5;28;01mtry\u001b[39;00m:\n\u001b[32m   4555\u001b[39m         x, y = xp.broadcast_arrays(x, y)\n",
      "\u001b[31mValueError\u001b[39m: `x` and `y` must have length at least 2."
     ]
    }
   ],
   "source": [
    "# --------------------------\n",
    "# 5. Compute Correlation Summary Per Stock\n",
    "# --------------------------\n",
    "correlation_summary = compute_correlation_per_stock(merged_df)\n",
    "print(correlation_summary)"
   ]
  },
  {
   "cell_type": "code",
   "execution_count": null,
   "metadata": {},
   "outputs": [],
   "source": [
    "plot_sentiment_vs_return(merged_df, 'A')\n"
   ]
  },
  {
   "cell_type": "code",
   "execution_count": null,
   "metadata": {},
   "outputs": [],
   "source": []
  }
 ],
 "metadata": {
  "kernelspec": {
   "display_name": ".venv",
   "language": "python",
   "name": "python3"
  },
  "language_info": {
   "codemirror_mode": {
    "name": "ipython",
    "version": 3
   },
   "file_extension": ".py",
   "mimetype": "text/x-python",
   "name": "python",
   "nbconvert_exporter": "python",
   "pygments_lexer": "ipython3",
   "version": "3.13.2"
  }
 },
 "nbformat": 4,
 "nbformat_minor": 2
}
