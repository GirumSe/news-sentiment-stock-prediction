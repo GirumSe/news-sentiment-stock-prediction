{
 "cells": [
  {
   "cell_type": "code",
   "execution_count": 1,
   "metadata": {},
   "outputs": [],
   "source": [
    "import sys\n",
    "import os\n",
    "\n",
    "# Append the parent directory (src) to sys.path\n",
    "notebooks_dir = os.path.dirname(os.path.abspath(\"__file__\"))\n",
    "src_dir = os.path.abspath(os.path.join(notebooks_dir, \"..\"))\n",
    "if src_dir not in sys.path:\n",
    "    sys.path.insert(0, src_dir)"
   ]
  },
  {
   "cell_type": "code",
   "execution_count": 2,
   "metadata": {},
   "outputs": [
    {
     "name": "stdout",
     "output_type": "stream",
     "text": [
      "INFO: Pandarallel will run on 2 workers.\n",
      "INFO: Pandarallel will use Memory file system to transfer data between the main process and workers.\n"
     ]
    }
   ],
   "source": [
    "from scripts.correlation_analysis import (\n",
    "    load_news_data, compute_sentiment, aggregate_daily_sentiment,\n",
    "    load_all_stock_data, merge_sentiment_with_returns,\n",
    "    compute_correlation_per_stock, plot_sentiment_vs_return\n",
    ")\n",
    "import seaborn as sns\n",
    "import matplotlib.pyplot as plt"
   ]
  },
  {
   "cell_type": "code",
   "execution_count": 3,
   "metadata": {},
   "outputs": [
    {
     "name": "stderr",
     "output_type": "stream",
     "text": [
      "/home/gura/Documents/projects/10_acadamy/week1/news-sentiment-stock-prediction/src/scripts/correlation_analysis.py:13: UserWarning: The argument 'infer_datetime_format' is deprecated and will be removed in a future version. A strict version of it is now the default, see https://pandas.pydata.org/pdeps/0004-consistent-to-datetime-parsing.html. You can safely remove this argument.\n",
      "  df['date'] = pd.to_datetime(df['date'], errors='coerce', infer_datetime_format=True)\n"
     ]
    },
    {
     "name": "stdout",
     "output_type": "stream",
     "text": [
      "         date stock  sentiment\n",
      "0  2011-04-27   DGP   0.000000\n",
      "1  2011-04-28   DEJ   0.000000\n",
      "2  2011-04-28   ESR   0.136364\n",
      "3  2011-04-29   AIA  -0.166667\n",
      "4  2011-04-29   GDL   0.500000\n"
     ]
    }
   ],
   "source": [
    "news_df = load_news_data('../../data/raw_analyst_ratings.csv')\n",
    "news_df = compute_sentiment(news_df)\n",
    "daily_sentiment = aggregate_daily_sentiment(news_df)\n",
    "print(daily_sentiment.head())"
   ]
  },
  {
   "cell_type": "code",
   "execution_count": 4,
   "metadata": {},
   "outputs": [
    {
     "name": "stdout",
     "output_type": "stream",
     "text": [
      "         Date stock  daily_return\n",
      "0  1980-12-15  AAPL     -0.052171\n",
      "1  1980-12-16  AAPL     -0.073398\n",
      "2  1980-12-17  AAPL      0.024751\n",
      "3  1980-12-18  AAPL      0.028992\n",
      "4  1980-12-19  AAPL      0.061029\n"
     ]
    }
   ],
   "source": [
    "stock_df = load_all_stock_data('../../data/yfinance_data/')\n",
    "print(stock_df.head())"
   ]
  },
  {
   "cell_type": "code",
   "execution_count": 5,
   "metadata": {},
   "outputs": [
    {
     "name": "stdout",
     "output_type": "stream",
     "text": [
      "         date stock  sentiment        Date  daily_return\n",
      "0  2020-06-02  NVDA   0.250000  2020-06-02      0.002158\n",
      "1  2020-06-04  GOOG   0.000000  2020-06-04     -0.016848\n",
      "2  2020-06-05  GOOG  -0.051852  2020-06-05      0.018560\n",
      "3  2020-06-08  GOOG   0.139394  2020-06-08      0.005715\n",
      "4  2020-06-08  NVDA   0.000000  2020-06-08     -0.012892\n"
     ]
    }
   ],
   "source": [
    "merged_df = merge_sentiment_with_returns(daily_sentiment, stock_df)\n",
    "print(merged_df.head())"
   ]
  },
  {
   "cell_type": "code",
   "execution_count": 6,
   "metadata": {},
   "outputs": [
    {
     "name": "stdout",
     "output_type": "stream",
     "text": [
      "  stock  n_samples  correlation\n",
      "0  AAPL        2.0    -1.000000\n",
      "1  AMZN        2.0    -1.000000\n",
      "2  GOOG        5.0    -0.089449\n",
      "3  NVDA        4.0     0.175714\n",
      "4  TSLA        1.0          NaN\n"
     ]
    }
   ],
   "source": [
    "# --------------------------\n",
    "# 5. Compute Correlation Summary Per Stock\n",
    "# --------------------------\n",
    "correlation_summary = compute_correlation_per_stock(merged_df)\n",
    "print(correlation_summary)"
   ]
  },
  {
   "cell_type": "code",
   "execution_count": 11,
   "metadata": {},
   "outputs": [
    {
     "data": {
      "image/png": "[encoded data removed]",
      "text/plain": [
       "<Figure size 640x480 with 1 Axes>"
      ]
     },
     "metadata": {},
     "output_type": "display_data"
    }
   ],
   "source": [
    "\n",
    "plot_sentiment_vs_return(merged_df, 'NVDA')\n"
   ]
  }
 ],
 "metadata": {
  "kernelspec": {
   "display_name": ".venv",
   "language": "python",
   "name": "python3"
  },
  "language_info": {
   "codemirror_mode": {
    "name": "ipython",
    "version": 3
   },
   "file_extension": ".py",
   "mimetype": "text/x-python",
   "name": "python",
   "nbconvert_exporter": "python",
   "pygments_lexer": "ipython3",
   "version": "3.13.2"
  }
 },
 "nbformat": 4,
 "nbformat_minor": 2
}
